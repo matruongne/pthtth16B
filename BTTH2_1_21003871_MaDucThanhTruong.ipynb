{
 "cells": [
  {
   "attachments": {},
   "cell_type": "markdown",
   "metadata": {},
   "source": [
    "# Họ và tên: Mã Đức Thanh Trường\n",
    "# MSSV: 21003871\n",
    "# Lớp học phần - Nhóm TH: 420300207402 - Nhóm 1"
   ]
  },
  {
   "cell_type": "markdown",
   "metadata": {},
   "source": [
    "# 1. Decision Making and Loops\n",
    "---"
   ]
  },
  {
   "cell_type": "markdown",
   "metadata": {},
   "source": [
    "## 1.1. Viết chương trình kiểm tra một số là số dương, số âm hay bằng không không.\n",
    "\n",
    "Sử dụng 2 dạng của câu lệnh rễ nhánh: \n",
    "\n",
    "if ... elif ... else\n",
    "\n",
    "Nested if"
   ]
  },
  {
   "cell_type": "code",
   "execution_count": 3,
   "metadata": {},
   "outputs": [
    {
     "name": "stdout",
     "output_type": "stream",
     "text": [
      "so am\n"
     ]
    }
   ],
   "source": [
    "# Dạng 1 if ... elif ... else\n",
    "num = float(input(\"Nhập vào một số: \"))\n",
    "\n",
    "if(num >0):\n",
    "    print('so duong')\n",
    "elif(num ==0):\n",
    "    print('bang 0')\n",
    "else:\n",
    "    print('so am')"
   ]
  },
  {
   "cell_type": "code",
   "execution_count": 8,
   "metadata": {},
   "outputs": [
    {
     "name": "stdout",
     "output_type": "stream",
     "text": [
      "bang 0\n"
     ]
    }
   ],
   "source": [
    "# Dạng 2: Nested if\n",
    "num = float(input(\"Nhập vào một số: \"))\n",
    "\n",
    "### START CODE HERE ### \n",
    "\n",
    "if(num !=0):\n",
    "    if(num > 0):\n",
    "        print('so duong')\n",
    "    if(num<0):\n",
    "        print('so am')\n",
    "else:        \n",
    "    print('bang 0')\n",
    "### END CODE HERE ###"
   ]
  },
  {
   "cell_type": "markdown",
   "metadata": {},
   "source": [
    "## 1.2. Viết chương trình kiểm tra một năm có phải năm nhuận không.\n",
    "\n",
    "Năm nhuận là năm chia hết cho 4, trừ những năm đầu thế kỷ (chia hết cho 100). Những năm đầu thế kỷ là năm nhuận khi nó chia hết cho 400 (ví dụ năm 2100 không phải là năm nhuận, 2104 là năm nhuận).\n",
    "\n",
    "Sử dụng 2 dạng của câu lệnh rễ nhánh: \n",
    "\n",
    "if ... elif ... else\n",
    "\n",
    "Nested if"
   ]
  },
  {
   "cell_type": "code",
   "execution_count": 9,
   "metadata": {},
   "outputs": [
    {
     "name": "stdout",
     "output_type": "stream",
     "text": [
      "2020 là năm nhuận\n"
     ]
    }
   ],
   "source": [
    "# Sử dụng lệnh if lồng nhau\n",
    "year = int(input(\"Nhập năm: \"))\n",
    "\n",
    "if (year % 4) == 0:\n",
    "    if (year % 100) == 0:\n",
    "        if (year % 400) == 0:\n",
    "            print(\"{0} là năm nhuận\".format(year))\n",
    "        else:\n",
    "            print(\"{0} không phải là năm nhuận\".format(year))\n",
    "    else:\n",
    "        print(\"{0} là năm nhuận\".format(year))\n",
    "else:\n",
    "    print(\"{0} không phải là năm nhuận\".format(year))"
   ]
  },
  {
   "cell_type": "code",
   "execution_count": 12,
   "metadata": {},
   "outputs": [
    {
     "name": "stdout",
     "output_type": "stream",
     "text": [
      "2020 là năm nhuận\n"
     ]
    }
   ],
   "source": [
    "# Sử dụng lệnh if ... elif ... else\n",
    "### START CODE HERE ### \n",
    "year = int(input(\"Nhập năm: \"))\n",
    "\n",
    "if ((year % 4) == 0 and (year % 100)==0 and (year % 400) == 0):\n",
    "    print(\"{0} là năm nhuận\".format(year))\n",
    "elif((year % 4) == 0 and (year % 100) != 0):\n",
    "    print(\"{0} là năm nhuận\".format(year))\n",
    "else:\n",
    "    print(\"{0} không phải là năm nhuận\".format(year))\n",
    "\n",
    "\n",
    "### END CODE HERE ###"
   ]
  },
  {
   "cell_type": "markdown",
   "metadata": {},
   "source": [
    "## 1.3. Viết chương trình kiểm tra một số nguyên có phải số nguyên tố không. Nếu không phải là số nguyên tố in ra lý do."
   ]
  },
  {
   "cell_type": "code",
   "execution_count": 23,
   "metadata": {},
   "outputs": [
    {
     "name": "stdout",
     "output_type": "stream",
     "text": [
      "17 là số nguyên tố\n"
     ]
    }
   ],
   "source": [
    "num = int(input(\"Enter a number: \"))\n",
    "\n",
    "# Số nguyên tố phải lớn hơn 1\n",
    "flag = True\n",
    "if num > 1:\n",
    "    for i in range(2,num):\n",
    "        if (num % i) == 0:\n",
    "            ### START CODE HERE ### \n",
    "                flag= False\n",
    "                break\n",
    "            ### END CODE HERE ###\n",
    "    \n",
    "    if(flag==False):\n",
    "        print(num,\"không phải là số nguyên tố\")\n",
    "\n",
    "    else:\n",
    "        ### START CODE HERE ### \n",
    "        print(num,\"là số nguyên tố\")\n",
    "        ### END CODE HERE ###\n",
    "\n",
    "else:\n",
    "    print(num,\"không phải là số nguyên tố\")"
   ]
  },
  {
   "cell_type": "markdown",
   "metadata": {},
   "source": [
    "## 1.4. Viết chương trình in ra tất cả các số nguyên tố trong khoảng (a,b)"
   ]
  },
  {
   "cell_type": "code",
   "execution_count": 25,
   "metadata": {},
   "outputs": [
    {
     "name": "stdout",
     "output_type": "stream",
     "text": [
      "Prime numbers between 0 and 20 are:\n",
      "2\n",
      "3\n",
      "5\n",
      "7\n",
      "11\n",
      "13\n",
      "17\n",
      "19\n"
     ]
    }
   ],
   "source": [
    "# Python program to display all the prime numbers within an interval\n",
    "\n",
    "lower = 0\n",
    "upper = 20\n",
    "\n",
    "flag = True\n",
    "print(\"Prime numbers between\", lower, \"and\", upper, \"are:\")\n",
    "\n",
    "for num in range(lower, upper + 1):\n",
    "    ### START CODE HERE ### \n",
    "    # Sử dụng for ... else    \n",
    "    if num > 1:\n",
    "        for i in range(2,num):\n",
    "            if (num % i) == 0:\n",
    "                ### START CODE HERE ### \n",
    "                    flag= False\n",
    "                    break\n",
    "                ### END CODE HERE ###\n",
    "        else:\n",
    "            ### START CODE HERE ### \n",
    "            print(num)\n",
    "\n",
    "        ### END CODE HERE ###"
   ]
  },
  {
   "cell_type": "markdown",
   "metadata": {},
   "source": [
    "## 1.5. Viết chương trình in ra 5 số Armstrong bé nhất.\n",
    "\n",
    "Một số nguyên dương gồm n chữ số được gọi là số Armstrong bậc n nếu\n",
    "\n",
    "abcd... = a^n + b^n + c^n + d^n + ...\n",
    "\n",
    "VD: 153 = 1*1*1 + 5*5*5 + 3*3*3 "
   ]
  },
  {
   "cell_type": "code",
   "execution_count": 46,
   "metadata": {},
   "outputs": [
    {
     "name": "stdout",
     "output_type": "stream",
     "text": [
      "153\n",
      "370\n",
      "371\n",
      "407\n",
      "1634\n"
     ]
    }
   ],
   "source": [
    "\n",
    "# initialize sum, count\n",
    "\n",
    "# Biến count được sử dụng để đếm số Armstrong đã tìm được\n",
    "count = 0\n",
    "n = 1\n",
    "while count < 5:\n",
    "    p = len(str(n))                                           \n",
    "    s = 0                                                     \n",
    "    k = n                                                     \n",
    "    while k>0:                                                \n",
    "        d = k%10                                              \n",
    "        s = s + (d**p)                                        \n",
    "        k = k//10                                             \n",
    "    if n == s and p >= 3:\n",
    "        print(n)\n",
    "        count += 1    \n",
    "    n += 1"
   ]
  },
  {
   "cell_type": "markdown",
   "metadata": {},
   "source": [
    "# 2. Functions\n",
    "---"
   ]
  },
  {
   "cell_type": "markdown",
   "metadata": {},
   "source": [
    "## 2.1. Viết hàm nhận vào một số nguyên, trả về giá trị True nếu nó là số nguyên tố, và False nếu nó không phải là số nguyên tố.\n",
    "\n",
    "Sử dụng code của Bài 1.3"
   ]
  },
  {
   "cell_type": "code",
   "execution_count": 35,
   "metadata": {},
   "outputs": [],
   "source": [
    "def prime(n):\n",
    "    ### START CODE HERE ### \n",
    "    # Sử dụng code của Bài 1.3\n",
    "# Số nguyên tố phải lớn hơn 1\n",
    "    flag = True\n",
    "    if n > 1:\n",
    "        for i in range(2,n):\n",
    "            if (n % i) == 0:\n",
    "                ### START CODE HERE ### \n",
    "                    flag= False\n",
    "                    break\n",
    "                ### END CODE HERE ###\n",
    "        \n",
    "        return flag\n",
    "\n",
    "    else:\n",
    "        return False\n",
    "    ### END CODE HERE ###"
   ]
  },
  {
   "cell_type": "markdown",
   "metadata": {},
   "source": [
    "Kiểm tra hoạt động của hàm prime(n) đã viết"
   ]
  },
  {
   "cell_type": "code",
   "execution_count": 37,
   "metadata": {},
   "outputs": [
    {
     "name": "stdout",
     "output_type": "stream",
     "text": [
      "19 là số nguyên tố\n"
     ]
    }
   ],
   "source": [
    "n = int(input(\"Nhập vào một số:\"))\n",
    "if prime(n):\n",
    "    print(n, 'là số nguyên tố')\n",
    "else:\n",
    "    print(n, 'không phải là số nguyên tố')"
   ]
  },
  {
   "cell_type": "markdown",
   "metadata": {},
   "source": [
    "## 2.2. Viết hàm nhận vào một số nguyên, trả về giá trị True nếu nó là số Armstrong, và False nếu nó không phải là số Armstrong.\n",
    "\n",
    "Sử dụng code của Bài 1.5"
   ]
  },
  {
   "cell_type": "code",
   "execution_count": 47,
   "metadata": {},
   "outputs": [],
   "source": [
    "def armstrong(n):\n",
    "    ### START CODE HERE ### \n",
    "    # Sử dụng code của Bài 1.5\n",
    "    p = len(str(n))                                           \n",
    "    s = 0                                                     \n",
    "    k = n                                                     \n",
    "    while k>0:                                                \n",
    "        d = k%10                                              \n",
    "        s = s + (d**p)                                        \n",
    "        k = k//10                                             \n",
    "    if n == s and p >= 3:\n",
    "        return True\n",
    "    else:\n",
    "        return False\n",
    "    ### END CODE HERE ###"
   ]
  },
  {
   "cell_type": "markdown",
   "metadata": {},
   "source": [
    "Kiểm tra hoạt động của hàm armstrong(n) đã viết"
   ]
  },
  {
   "cell_type": "code",
   "execution_count": 50,
   "metadata": {},
   "outputs": [
    {
     "name": "stdout",
     "output_type": "stream",
     "text": [
      "35 không phải là số armstrong\n"
     ]
    }
   ],
   "source": [
    "# n = 153\n",
    "n = 35\n",
    "if armstrong(n):\n",
    "    print(n, 'là số armstrong')\n",
    "else:\n",
    "    print(n, 'không phải là số armstrong')"
   ]
  },
  {
   "cell_type": "markdown",
   "metadata": {},
   "source": [
    "## 2.3. Sử dụng hàm Lambda để in ra 10 lũy thừa đầu tiên của 2."
   ]
  },
  {
   "cell_type": "code",
   "execution_count": 64,
   "metadata": {},
   "outputs": [
    {
     "name": "stdout",
     "output_type": "stream",
     "text": [
      "1\n",
      "2\n",
      "4\n",
      "8\n",
      "16\n",
      "32\n",
      "64\n",
      "128\n",
      "256\n",
      "512\n"
     ]
    }
   ],
   "source": [
    "terms = 10\n",
    "\n",
    "def tinhluythua(n):\n",
    "    return lambda x: x ** n\n",
    "\n",
    "\n",
    "for i in range(terms):\n",
    "    result =tinhluythua(i)\n",
    "    print(result(2))"
   ]
  },
  {
   "cell_type": "markdown",
   "metadata": {},
   "source": [
    "## 2.4. Sử dụng hàm Lambda để in ra 10 số chính phương đầu tiên"
   ]
  },
  {
   "cell_type": "code",
   "execution_count": null,
   "metadata": {},
   "outputs": [],
   "source": [
    "terms = 10\n",
    "n=0\n",
    "while terms < 11:\n",
    "# use anonymous function\n",
    "\n",
    "        ### START CODE HERE ### \n",
    "        # Sử dụng kết hợp với hàm map()\n",
    "    def chinhphuong(n):\n",
    "        return lambda x: (x ** 2 == n)\n",
    "\n",
    "        ### END CODE HERE ###\n",
    "\n",
    "    for i in range(terms):\n",
    "        result = chinhphuong()\n",
    "        print(result(terms))\n",
    "        n+=1\n"
   ]
  },
  {
   "cell_type": "markdown",
   "metadata": {},
   "source": [
    "## 2.5. Sử dụng hàm Lambda để in ra các số lẻ trong một dãy"
   ]
  },
  {
   "cell_type": "code",
   "execution_count": 65,
   "metadata": {},
   "outputs": [
    {
     "name": "stdout",
     "output_type": "stream",
     "text": [
      "Các số lẻ trong dãy [65, 39, 339, 221]\n"
     ]
    }
   ],
   "source": [
    "# Take a list of numbers\n",
    "my_list = [12, 65, 54, 39, 102, 339, 221,]\n",
    "\n",
    "# use anonymous function to filter\n",
    "result = list(filter(lambda x: (x % 2 == 1), my_list))\n",
    "\n",
    "# display the result\n",
    "print(\"Các số lẻ trong dãy\",result)"
   ]
  },
  {
   "cell_type": "markdown",
   "metadata": {},
   "source": [
    "## 2.5. Sử dụng hàm filter() để in ra các số nguyên tố trong một dãy"
   ]
  },
  {
   "cell_type": "code",
   "execution_count": null,
   "metadata": {},
   "outputs": [],
   "source": [
    "# Take a list of numbers\n",
    "my_list = [12, 65, 54, 39, 102, 339, 221,]\n",
    "\n",
    "# định nghĩa hàm nhận vào một số nguyên,\n",
    "# trả về giá trị True nếu nó là số nguyên tố,\n",
    "# và False nếu nó không phải là số nguyên tố.\n",
    "def prime(n):\n",
    "    ### START CODE HERE ### \n",
    "    \n",
    "\n",
    "    ### END CODE HERE ###\n",
    "    \n",
    "# use filter()\n",
    "    ### START CODE HERE ### \n",
    "    \n",
    "\n",
    "    ### END CODE HERE ###\n",
    "    \n",
    "# display the result\n",
    "print(\"Các số nguyên tố trong dãy\",result)"
   ]
  }
 ],
 "metadata": {
  "kernelspec": {
   "display_name": "Python 3",
   "language": "python",
   "name": "python3"
  },
  "language_info": {
   "codemirror_mode": {
    "name": "ipython",
    "version": 3
   },
   "file_extension": ".py",
   "mimetype": "text/x-python",
   "name": "python",
   "nbconvert_exporter": "python",
   "pygments_lexer": "ipython3",
   "version": "3.11.1"
  },
  "vscode": {
   "interpreter": {
    "hash": "1fda7e93ad795669d2893e599d219a59e05438e8d94258353c4609b1171d5eee"
   }
  }
 },
 "nbformat": 4,
 "nbformat_minor": 2
}
